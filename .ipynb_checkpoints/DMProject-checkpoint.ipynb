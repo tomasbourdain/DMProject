{
 "cells": [
  {
   "cell_type": "markdown",
   "id": "6fdc0652",
   "metadata": {},
   "source": [
    "# Data Mining Project"
   ]
  },
  {
   "cell_type": "markdown",
   "id": "e52b03f1",
   "metadata": {},
   "source": [
    "## Context\n",
    "\n",
    "Market segmentation, the process of identifying customers’ groups, makes use of geographic, demographic, psychographic, and behavioral characteristics of customers. By understanding the differences between the different segments, organizations can make better strategic choices about opportunities, product definition, positioning, promotions, pricing, and target marketing.\n",
    "\n",
    "A2Z Insurance (A2Z) is a portuguese long standing insurance company that serves a wide array of insurance services: Motor, Household, Health, Life and Work Compensation. Although A2Z primarily serves portuguese customers, a significant portion of their customer acquisition comes from their web site.\n",
    "\n",
    "In 2016, A2Z became one of the largest insurers in Portugal.and they provided you an ABT (Analytic Based Table) with data regarding a sample of 10.290 Customers from its active database. These are customers that had at least one insurance service with the company at the time the dataset was extracted. "
   ]
  },
  {
   "cell_type": "markdown",
   "id": "342973e9",
   "metadata": {},
   "source": [
    "## Goals\n",
    "1. Explore the data and identify the variables that should be used to segment customers.\n",
    "2. Identify customer segments\n",
    "3. Justify the number of clusters you chose (taking in consideration the business use as well).\n",
    "4. Explain the clusters found.\n",
    "5. Suggest business applications for the findings and define general marketing approaches for each cluster."
   ]
  },
  {
   "cell_type": "markdown",
   "id": "990911c8",
   "metadata": {},
   "source": [
    "## Notes\n",
    "\n",
    "- 2016 is the current year\n",
    "- Change Name of Columns X\n",
    "- Fill with 0 the Insurance Premiums X\n",
    "- Fill with mode Children X\n",
    "- Fill with median Salary, etc. X\n",
    "- Deal with Negative Values\n",
    "- Remove Outliers (IQR Method and Manual) X\n",
    "- Perform Standardization (MinMaxScaler,Standard Scaler)\n",
    "- Feature Selection(Check Correlation)\n",
    "- Create New Variables (Age Group, Income Group, Has Children (Yes/No, Total_Premiums)\n",
    "- Taking into account that the current year of the database is 2016, we calculated the customer Age , which is 2016 minus birthday year and the Customer_Years is 2016 minus first policy year. Also, i f we divide Customer Monetary Value ( CMV ) by Customer_Years , we obt ain an estimation of the customer Annual_Profit .\n",
    "- Coherence Checking (Age < 18, Age < Years of Education+4?, Birthday > First_Policy, Negative Salary, Children outside the Ranges, Area different from the range interval\n",
    "- Clustering by Demographic and Value and Behavior (Data Partition)\n",
    "- Create new variable Salary Invested Total Premiums/(Salary x 14) x 100"
   ]
  },
  {
   "cell_type": "markdown",
   "id": "0b86b0d8",
   "metadata": {},
   "source": [
    "## Importing Libraries"
   ]
  },
  {
   "cell_type": "code",
   "execution_count": 1,
   "id": "5f132e46",
   "metadata": {},
   "outputs": [],
   "source": [
    "import numpy as np\n",
    "import pandas as pd\n",
    "import matplotlib.pyplot as plt\n",
    "import seaborn as sns\n",
    "from math import ceil\n",
    "import warnings\n",
    "warnings.filterwarnings(\"ignore\")\n",
    "\n",
    "%matplotlib inline"
   ]
  },
  {
   "cell_type": "markdown",
   "id": "9c99c43e",
   "metadata": {},
   "source": [
    "## Loading Data"
   ]
  },
  {
   "cell_type": "code",
   "execution_count": 2,
   "id": "e9077d05",
   "metadata": {},
   "outputs": [],
   "source": [
    "df = pd.read_sas('a2z_insurance.sas7bdat')"
   ]
  },
  {
   "cell_type": "code",
   "execution_count": 3,
   "id": "62299b30",
   "metadata": {},
   "outputs": [],
   "source": [
    "df['CustID'] = df.CustID.astype(int)"
   ]
  },
  {
   "cell_type": "code",
   "execution_count": 4,
   "id": "114fd6df",
   "metadata": {},
   "outputs": [],
   "source": [
    "df.set_index('CustID', inplace=True)"
   ]
  },
  {
   "cell_type": "markdown",
   "id": "8f38c8f2",
   "metadata": {},
   "source": [
    "## Data Exploration"
   ]
  },
  {
   "cell_type": "code",
   "execution_count": 5,
   "id": "ff528f15",
   "metadata": {},
   "outputs": [],
   "source": [
    "#Renaming Columns\n",
    "df.rename(columns={'FirstPolYear':'First_Policy',\n",
    "                   'EducDeg': 'Education',\n",
    "                   'MonthSal': 'Salary',\n",
    "                  'GeoLivArea': 'Area',\n",
    "                  'CustMonVal': 'CMV',\n",
    "                   'ClaimsRate': 'Claims',\n",
    "                  'PremMotor':'Motor',\n",
    "                  'PremHousehold': 'Household',\n",
    "                  'PremHealth': 'Health',\n",
    "                  'PremLife': 'Life',\n",
    "                  'PremWork': 'Work'}, inplace=True)"
   ]
  },
  {
   "cell_type": "code",
   "execution_count": 6,
   "id": "8c14962d",
   "metadata": {},
   "outputs": [
    {
     "data": {
      "text/html": [
       "<div>\n",
       "<style scoped>\n",
       "    .dataframe tbody tr th:only-of-type {\n",
       "        vertical-align: middle;\n",
       "    }\n",
       "\n",
       "    .dataframe tbody tr th {\n",
       "        vertical-align: top;\n",
       "    }\n",
       "\n",
       "    .dataframe thead th {\n",
       "        text-align: right;\n",
       "    }\n",
       "</style>\n",
       "<table border=\"1\" class=\"dataframe\">\n",
       "  <thead>\n",
       "    <tr style=\"text-align: right;\">\n",
       "      <th></th>\n",
       "      <th>First_Policy</th>\n",
       "      <th>BirthYear</th>\n",
       "      <th>Education</th>\n",
       "      <th>Salary</th>\n",
       "      <th>Area</th>\n",
       "      <th>Children</th>\n",
       "      <th>CMV</th>\n",
       "      <th>Claims</th>\n",
       "      <th>Motor</th>\n",
       "      <th>Household</th>\n",
       "      <th>Health</th>\n",
       "      <th>Life</th>\n",
       "      <th>Work</th>\n",
       "    </tr>\n",
       "    <tr>\n",
       "      <th>CustID</th>\n",
       "      <th></th>\n",
       "      <th></th>\n",
       "      <th></th>\n",
       "      <th></th>\n",
       "      <th></th>\n",
       "      <th></th>\n",
       "      <th></th>\n",
       "      <th></th>\n",
       "      <th></th>\n",
       "      <th></th>\n",
       "      <th></th>\n",
       "      <th></th>\n",
       "      <th></th>\n",
       "    </tr>\n",
       "  </thead>\n",
       "  <tbody>\n",
       "    <tr>\n",
       "      <th>1</th>\n",
       "      <td>1985.0</td>\n",
       "      <td>1982.0</td>\n",
       "      <td>b'2 - High School'</td>\n",
       "      <td>2177.0</td>\n",
       "      <td>1.0</td>\n",
       "      <td>1.0</td>\n",
       "      <td>380.97</td>\n",
       "      <td>0.39</td>\n",
       "      <td>375.85</td>\n",
       "      <td>79.45</td>\n",
       "      <td>146.36</td>\n",
       "      <td>47.01</td>\n",
       "      <td>16.89</td>\n",
       "    </tr>\n",
       "    <tr>\n",
       "      <th>2</th>\n",
       "      <td>1981.0</td>\n",
       "      <td>1995.0</td>\n",
       "      <td>b'2 - High School'</td>\n",
       "      <td>677.0</td>\n",
       "      <td>4.0</td>\n",
       "      <td>1.0</td>\n",
       "      <td>-131.13</td>\n",
       "      <td>1.12</td>\n",
       "      <td>77.46</td>\n",
       "      <td>416.20</td>\n",
       "      <td>116.69</td>\n",
       "      <td>194.48</td>\n",
       "      <td>106.13</td>\n",
       "    </tr>\n",
       "    <tr>\n",
       "      <th>3</th>\n",
       "      <td>1991.0</td>\n",
       "      <td>1970.0</td>\n",
       "      <td>b'1 - Basic'</td>\n",
       "      <td>2277.0</td>\n",
       "      <td>3.0</td>\n",
       "      <td>0.0</td>\n",
       "      <td>504.67</td>\n",
       "      <td>0.28</td>\n",
       "      <td>206.15</td>\n",
       "      <td>224.50</td>\n",
       "      <td>124.58</td>\n",
       "      <td>86.35</td>\n",
       "      <td>99.02</td>\n",
       "    </tr>\n",
       "    <tr>\n",
       "      <th>4</th>\n",
       "      <td>1990.0</td>\n",
       "      <td>1981.0</td>\n",
       "      <td>b'3 - BSc/MSc'</td>\n",
       "      <td>1099.0</td>\n",
       "      <td>4.0</td>\n",
       "      <td>1.0</td>\n",
       "      <td>-16.99</td>\n",
       "      <td>0.99</td>\n",
       "      <td>182.48</td>\n",
       "      <td>43.35</td>\n",
       "      <td>311.17</td>\n",
       "      <td>35.34</td>\n",
       "      <td>28.34</td>\n",
       "    </tr>\n",
       "    <tr>\n",
       "      <th>5</th>\n",
       "      <td>1986.0</td>\n",
       "      <td>1973.0</td>\n",
       "      <td>b'3 - BSc/MSc'</td>\n",
       "      <td>1763.0</td>\n",
       "      <td>4.0</td>\n",
       "      <td>1.0</td>\n",
       "      <td>35.23</td>\n",
       "      <td>0.90</td>\n",
       "      <td>338.62</td>\n",
       "      <td>47.80</td>\n",
       "      <td>182.59</td>\n",
       "      <td>18.78</td>\n",
       "      <td>41.45</td>\n",
       "    </tr>\n",
       "  </tbody>\n",
       "</table>\n",
       "</div>"
      ],
      "text/plain": [
       "        First_Policy  BirthYear           Education  Salary  Area  Children  \\\n",
       "CustID                                                                        \n",
       "1             1985.0     1982.0  b'2 - High School'  2177.0   1.0       1.0   \n",
       "2             1981.0     1995.0  b'2 - High School'   677.0   4.0       1.0   \n",
       "3             1991.0     1970.0        b'1 - Basic'  2277.0   3.0       0.0   \n",
       "4             1990.0     1981.0      b'3 - BSc/MSc'  1099.0   4.0       1.0   \n",
       "5             1986.0     1973.0      b'3 - BSc/MSc'  1763.0   4.0       1.0   \n",
       "\n",
       "           CMV  Claims   Motor  Household  Health    Life    Work  \n",
       "CustID                                                             \n",
       "1       380.97    0.39  375.85      79.45  146.36   47.01   16.89  \n",
       "2      -131.13    1.12   77.46     416.20  116.69  194.48  106.13  \n",
       "3       504.67    0.28  206.15     224.50  124.58   86.35   99.02  \n",
       "4       -16.99    0.99  182.48      43.35  311.17   35.34   28.34  \n",
       "5        35.23    0.90  338.62      47.80  182.59   18.78   41.45  "
      ]
     },
     "execution_count": 6,
     "metadata": {},
     "output_type": "execute_result"
    }
   ],
   "source": [
    "df.head()"
   ]
  },
  {
   "cell_type": "code",
   "execution_count": 7,
   "id": "b480d406",
   "metadata": {},
   "outputs": [
    {
     "data": {
      "text/plain": [
       "(10296, 13)"
      ]
     },
     "execution_count": 7,
     "metadata": {},
     "output_type": "execute_result"
    }
   ],
   "source": [
    "#Checking Shape of the Dataset\n",
    "df.shape"
   ]
  },
  {
   "cell_type": "code",
   "execution_count": 8,
   "id": "4da452df",
   "metadata": {},
   "outputs": [
    {
     "data": {
      "text/plain": [
       "Index(['First_Policy', 'BirthYear', 'Education', 'Salary', 'Area', 'Children',\n",
       "       'CMV', 'Claims', 'Motor', 'Household', 'Health', 'Life', 'Work'],\n",
       "      dtype='object')"
      ]
     },
     "execution_count": 8,
     "metadata": {},
     "output_type": "execute_result"
    }
   ],
   "source": [
    "#Checking all the Columns in the Dataset\n",
    "df.columns"
   ]
  },
  {
   "cell_type": "code",
   "execution_count": 9,
   "id": "f7f33b58",
   "metadata": {},
   "outputs": [
    {
     "data": {
      "text/html": [
       "<div>\n",
       "<style scoped>\n",
       "    .dataframe tbody tr th:only-of-type {\n",
       "        vertical-align: middle;\n",
       "    }\n",
       "\n",
       "    .dataframe tbody tr th {\n",
       "        vertical-align: top;\n",
       "    }\n",
       "\n",
       "    .dataframe thead th {\n",
       "        text-align: right;\n",
       "    }\n",
       "</style>\n",
       "<table border=\"1\" class=\"dataframe\">\n",
       "  <thead>\n",
       "    <tr style=\"text-align: right;\">\n",
       "      <th></th>\n",
       "      <th>count</th>\n",
       "      <th>mean</th>\n",
       "      <th>std</th>\n",
       "      <th>min</th>\n",
       "      <th>25%</th>\n",
       "      <th>50%</th>\n",
       "      <th>75%</th>\n",
       "      <th>max</th>\n",
       "    </tr>\n",
       "  </thead>\n",
       "  <tbody>\n",
       "    <tr>\n",
       "      <th>First_Policy</th>\n",
       "      <td>10266.0</td>\n",
       "      <td>1991.062634</td>\n",
       "      <td>511.267913</td>\n",
       "      <td>1974.00</td>\n",
       "      <td>1980.00</td>\n",
       "      <td>1986.00</td>\n",
       "      <td>1992.0000</td>\n",
       "      <td>53784.00</td>\n",
       "    </tr>\n",
       "    <tr>\n",
       "      <th>BirthYear</th>\n",
       "      <td>10279.0</td>\n",
       "      <td>1968.007783</td>\n",
       "      <td>19.709476</td>\n",
       "      <td>1028.00</td>\n",
       "      <td>1953.00</td>\n",
       "      <td>1968.00</td>\n",
       "      <td>1983.0000</td>\n",
       "      <td>2001.00</td>\n",
       "    </tr>\n",
       "    <tr>\n",
       "      <th>Salary</th>\n",
       "      <td>10260.0</td>\n",
       "      <td>2506.667057</td>\n",
       "      <td>1157.449634</td>\n",
       "      <td>333.00</td>\n",
       "      <td>1706.00</td>\n",
       "      <td>2501.50</td>\n",
       "      <td>3290.2500</td>\n",
       "      <td>55215.00</td>\n",
       "    </tr>\n",
       "    <tr>\n",
       "      <th>Area</th>\n",
       "      <td>10295.0</td>\n",
       "      <td>2.709859</td>\n",
       "      <td>1.266291</td>\n",
       "      <td>1.00</td>\n",
       "      <td>1.00</td>\n",
       "      <td>3.00</td>\n",
       "      <td>4.0000</td>\n",
       "      <td>4.00</td>\n",
       "    </tr>\n",
       "    <tr>\n",
       "      <th>Children</th>\n",
       "      <td>10275.0</td>\n",
       "      <td>0.706764</td>\n",
       "      <td>0.455268</td>\n",
       "      <td>0.00</td>\n",
       "      <td>0.00</td>\n",
       "      <td>1.00</td>\n",
       "      <td>1.0000</td>\n",
       "      <td>1.00</td>\n",
       "    </tr>\n",
       "    <tr>\n",
       "      <th>CMV</th>\n",
       "      <td>10296.0</td>\n",
       "      <td>177.892605</td>\n",
       "      <td>1945.811505</td>\n",
       "      <td>-165680.42</td>\n",
       "      <td>-9.44</td>\n",
       "      <td>186.87</td>\n",
       "      <td>399.7775</td>\n",
       "      <td>11875.89</td>\n",
       "    </tr>\n",
       "    <tr>\n",
       "      <th>Claims</th>\n",
       "      <td>10296.0</td>\n",
       "      <td>0.742772</td>\n",
       "      <td>2.916964</td>\n",
       "      <td>0.00</td>\n",
       "      <td>0.39</td>\n",
       "      <td>0.72</td>\n",
       "      <td>0.9800</td>\n",
       "      <td>256.20</td>\n",
       "    </tr>\n",
       "    <tr>\n",
       "      <th>Motor</th>\n",
       "      <td>10262.0</td>\n",
       "      <td>300.470252</td>\n",
       "      <td>211.914997</td>\n",
       "      <td>-4.11</td>\n",
       "      <td>190.59</td>\n",
       "      <td>298.61</td>\n",
       "      <td>408.3000</td>\n",
       "      <td>11604.42</td>\n",
       "    </tr>\n",
       "    <tr>\n",
       "      <th>Household</th>\n",
       "      <td>10296.0</td>\n",
       "      <td>210.431192</td>\n",
       "      <td>352.595984</td>\n",
       "      <td>-75.00</td>\n",
       "      <td>49.45</td>\n",
       "      <td>132.80</td>\n",
       "      <td>290.0500</td>\n",
       "      <td>25048.80</td>\n",
       "    </tr>\n",
       "    <tr>\n",
       "      <th>Health</th>\n",
       "      <td>10253.0</td>\n",
       "      <td>171.580833</td>\n",
       "      <td>296.405976</td>\n",
       "      <td>-2.11</td>\n",
       "      <td>111.80</td>\n",
       "      <td>162.81</td>\n",
       "      <td>219.8200</td>\n",
       "      <td>28272.00</td>\n",
       "    </tr>\n",
       "    <tr>\n",
       "      <th>Life</th>\n",
       "      <td>10192.0</td>\n",
       "      <td>41.855782</td>\n",
       "      <td>47.480632</td>\n",
       "      <td>-7.00</td>\n",
       "      <td>9.89</td>\n",
       "      <td>25.56</td>\n",
       "      <td>57.7900</td>\n",
       "      <td>398.30</td>\n",
       "    </tr>\n",
       "    <tr>\n",
       "      <th>Work</th>\n",
       "      <td>10210.0</td>\n",
       "      <td>41.277514</td>\n",
       "      <td>51.513572</td>\n",
       "      <td>-12.00</td>\n",
       "      <td>10.67</td>\n",
       "      <td>25.67</td>\n",
       "      <td>56.7900</td>\n",
       "      <td>1988.70</td>\n",
       "    </tr>\n",
       "  </tbody>\n",
       "</table>\n",
       "</div>"
      ],
      "text/plain": [
       "                count         mean          std        min      25%      50%  \\\n",
       "First_Policy  10266.0  1991.062634   511.267913    1974.00  1980.00  1986.00   \n",
       "BirthYear     10279.0  1968.007783    19.709476    1028.00  1953.00  1968.00   \n",
       "Salary        10260.0  2506.667057  1157.449634     333.00  1706.00  2501.50   \n",
       "Area          10295.0     2.709859     1.266291       1.00     1.00     3.00   \n",
       "Children      10275.0     0.706764     0.455268       0.00     0.00     1.00   \n",
       "CMV           10296.0   177.892605  1945.811505 -165680.42    -9.44   186.87   \n",
       "Claims        10296.0     0.742772     2.916964       0.00     0.39     0.72   \n",
       "Motor         10262.0   300.470252   211.914997      -4.11   190.59   298.61   \n",
       "Household     10296.0   210.431192   352.595984     -75.00    49.45   132.80   \n",
       "Health        10253.0   171.580833   296.405976      -2.11   111.80   162.81   \n",
       "Life          10192.0    41.855782    47.480632      -7.00     9.89    25.56   \n",
       "Work          10210.0    41.277514    51.513572     -12.00    10.67    25.67   \n",
       "\n",
       "                    75%       max  \n",
       "First_Policy  1992.0000  53784.00  \n",
       "BirthYear     1983.0000   2001.00  \n",
       "Salary        3290.2500  55215.00  \n",
       "Area             4.0000      4.00  \n",
       "Children         1.0000      1.00  \n",
       "CMV            399.7775  11875.89  \n",
       "Claims           0.9800    256.20  \n",
       "Motor          408.3000  11604.42  \n",
       "Household      290.0500  25048.80  \n",
       "Health         219.8200  28272.00  \n",
       "Life            57.7900    398.30  \n",
       "Work            56.7900   1988.70  "
      ]
     },
     "execution_count": 9,
     "metadata": {},
     "output_type": "execute_result"
    }
   ],
   "source": [
    "df.describe().T"
   ]
  },
  {
   "cell_type": "code",
   "execution_count": 10,
   "id": "4857efbd",
   "metadata": {},
   "outputs": [
    {
     "name": "stdout",
     "output_type": "stream",
     "text": [
      "<class 'pandas.core.frame.DataFrame'>\n",
      "Int64Index: 10296 entries, 1 to 10296\n",
      "Data columns (total 13 columns):\n",
      " #   Column        Non-Null Count  Dtype  \n",
      "---  ------        --------------  -----  \n",
      " 0   First_Policy  10266 non-null  float64\n",
      " 1   BirthYear     10279 non-null  float64\n",
      " 2   Education     10279 non-null  object \n",
      " 3   Salary        10260 non-null  float64\n",
      " 4   Area          10295 non-null  float64\n",
      " 5   Children      10275 non-null  float64\n",
      " 6   CMV           10296 non-null  float64\n",
      " 7   Claims        10296 non-null  float64\n",
      " 8   Motor         10262 non-null  float64\n",
      " 9   Household     10296 non-null  float64\n",
      " 10  Health        10253 non-null  float64\n",
      " 11  Life          10192 non-null  float64\n",
      " 12  Work          10210 non-null  float64\n",
      "dtypes: float64(12), object(1)\n",
      "memory usage: 1.1+ MB\n"
     ]
    }
   ],
   "source": [
    "#Checking information for all columns\n",
    "df.info()"
   ]
  },
  {
   "cell_type": "code",
   "execution_count": 11,
   "id": "9ffbc9e2",
   "metadata": {},
   "outputs": [
    {
     "data": {
      "text/plain": [
       "First_Policy     30\n",
       "BirthYear        17\n",
       "Education        17\n",
       "Salary           36\n",
       "Area              1\n",
       "Children         21\n",
       "CMV               0\n",
       "Claims            0\n",
       "Motor            34\n",
       "Household         0\n",
       "Health           43\n",
       "Life            104\n",
       "Work             86\n",
       "dtype: int64"
      ]
     },
     "execution_count": 11,
     "metadata": {},
     "output_type": "execute_result"
    }
   ],
   "source": [
    "#Checking if there is any Null value present in the Dataset?\n",
    "df.isnull().sum()"
   ]
  },
  {
   "cell_type": "code",
   "execution_count": 12,
   "id": "30fe565a",
   "metadata": {},
   "outputs": [
    {
     "data": {
      "text/html": [
       "<div>\n",
       "<style scoped>\n",
       "    .dataframe tbody tr th:only-of-type {\n",
       "        vertical-align: middle;\n",
       "    }\n",
       "\n",
       "    .dataframe tbody tr th {\n",
       "        vertical-align: top;\n",
       "    }\n",
       "\n",
       "    .dataframe thead th {\n",
       "        text-align: right;\n",
       "    }\n",
       "</style>\n",
       "<table border=\"1\" class=\"dataframe\">\n",
       "  <thead>\n",
       "    <tr style=\"text-align: right;\">\n",
       "      <th></th>\n",
       "      <th>column_name</th>\n",
       "      <th>percent_missing</th>\n",
       "    </tr>\n",
       "  </thead>\n",
       "  <tbody>\n",
       "    <tr>\n",
       "      <th>First_Policy</th>\n",
       "      <td>First_Policy</td>\n",
       "      <td>0.291375</td>\n",
       "    </tr>\n",
       "    <tr>\n",
       "      <th>BirthYear</th>\n",
       "      <td>BirthYear</td>\n",
       "      <td>0.165113</td>\n",
       "    </tr>\n",
       "    <tr>\n",
       "      <th>Education</th>\n",
       "      <td>Education</td>\n",
       "      <td>0.165113</td>\n",
       "    </tr>\n",
       "    <tr>\n",
       "      <th>Salary</th>\n",
       "      <td>Salary</td>\n",
       "      <td>0.349650</td>\n",
       "    </tr>\n",
       "    <tr>\n",
       "      <th>Area</th>\n",
       "      <td>Area</td>\n",
       "      <td>0.009713</td>\n",
       "    </tr>\n",
       "    <tr>\n",
       "      <th>Children</th>\n",
       "      <td>Children</td>\n",
       "      <td>0.203963</td>\n",
       "    </tr>\n",
       "    <tr>\n",
       "      <th>CMV</th>\n",
       "      <td>CMV</td>\n",
       "      <td>0.000000</td>\n",
       "    </tr>\n",
       "    <tr>\n",
       "      <th>Claims</th>\n",
       "      <td>Claims</td>\n",
       "      <td>0.000000</td>\n",
       "    </tr>\n",
       "    <tr>\n",
       "      <th>Motor</th>\n",
       "      <td>Motor</td>\n",
       "      <td>0.330225</td>\n",
       "    </tr>\n",
       "    <tr>\n",
       "      <th>Household</th>\n",
       "      <td>Household</td>\n",
       "      <td>0.000000</td>\n",
       "    </tr>\n",
       "    <tr>\n",
       "      <th>Health</th>\n",
       "      <td>Health</td>\n",
       "      <td>0.417638</td>\n",
       "    </tr>\n",
       "    <tr>\n",
       "      <th>Life</th>\n",
       "      <td>Life</td>\n",
       "      <td>1.010101</td>\n",
       "    </tr>\n",
       "    <tr>\n",
       "      <th>Work</th>\n",
       "      <td>Work</td>\n",
       "      <td>0.835276</td>\n",
       "    </tr>\n",
       "  </tbody>\n",
       "</table>\n",
       "</div>"
      ],
      "text/plain": [
       "               column_name  percent_missing\n",
       "First_Policy  First_Policy         0.291375\n",
       "BirthYear        BirthYear         0.165113\n",
       "Education        Education         0.165113\n",
       "Salary              Salary         0.349650\n",
       "Area                  Area         0.009713\n",
       "Children          Children         0.203963\n",
       "CMV                    CMV         0.000000\n",
       "Claims              Claims         0.000000\n",
       "Motor                Motor         0.330225\n",
       "Household        Household         0.000000\n",
       "Health              Health         0.417638\n",
       "Life                  Life         1.010101\n",
       "Work                  Work         0.835276"
      ]
     },
     "execution_count": 12,
     "metadata": {},
     "output_type": "execute_result"
    }
   ],
   "source": [
    "### Percentage of Missing Data\n",
    "percent_missing = df.isnull().sum() * 100 / len(df)\n",
    "missing_value_df = pd.DataFrame({'column_name': df.columns,\n",
    "                                 'percent_missing': percent_missing})\n",
    "missing_value_df"
   ]
  },
  {
   "cell_type": "markdown",
   "id": "ec1f5b34",
   "metadata": {},
   "source": [
    "## Data Preparation"
   ]
  },
  {
   "cell_type": "markdown",
   "id": "3c8119b7",
   "metadata": {},
   "source": [
    "### Handling Missing Values"
   ]
  },
  {
   "cell_type": "code",
   "execution_count": 13,
   "id": "c23fb409",
   "metadata": {},
   "outputs": [
    {
     "data": {
      "text/plain": [
       "1986.0"
      ]
     },
     "execution_count": 13,
     "metadata": {},
     "output_type": "execute_result"
    }
   ],
   "source": [
    "df['First_Policy'].median()"
   ]
  },
  {
   "cell_type": "code",
   "execution_count": 14,
   "id": "c2aa145a",
   "metadata": {},
   "outputs": [],
   "source": [
    "df['First_Policy'].fillna(df['First_Policy'].median(), inplace=True)"
   ]
  },
  {
   "cell_type": "code",
   "execution_count": 15,
   "id": "e295874c",
   "metadata": {},
   "outputs": [
    {
     "data": {
      "text/plain": [
       "1968.0"
      ]
     },
     "execution_count": 15,
     "metadata": {},
     "output_type": "execute_result"
    }
   ],
   "source": [
    "df['BirthYear'].median()"
   ]
  },
  {
   "cell_type": "code",
   "execution_count": 16,
   "id": "b89db131",
   "metadata": {},
   "outputs": [],
   "source": [
    "df['BirthYear'].fillna(df['BirthYear'].median(), inplace=True)"
   ]
  },
  {
   "cell_type": "code",
   "execution_count": 17,
   "id": "369ac12f",
   "metadata": {},
   "outputs": [
    {
     "data": {
      "text/plain": [
       "b'3 - BSc/MSc'"
      ]
     },
     "execution_count": 17,
     "metadata": {},
     "output_type": "execute_result"
    }
   ],
   "source": [
    "df['Education'].mode()[0]"
   ]
  },
  {
   "cell_type": "code",
   "execution_count": 18,
   "id": "61a9a81d",
   "metadata": {
    "scrolled": false
   },
   "outputs": [],
   "source": [
    "df['Education'].fillna(df['Education'].mode()[0], inplace=True)"
   ]
  },
  {
   "cell_type": "code",
   "execution_count": 19,
   "id": "2f39f1af",
   "metadata": {},
   "outputs": [
    {
     "data": {
      "text/plain": [
       "2501.5"
      ]
     },
     "execution_count": 19,
     "metadata": {},
     "output_type": "execute_result"
    }
   ],
   "source": [
    "df['Salary'].median()"
   ]
  },
  {
   "cell_type": "code",
   "execution_count": 20,
   "id": "3d8a90be",
   "metadata": {},
   "outputs": [],
   "source": [
    "df['Salary'].fillna(df['Salary'].median(), inplace=True)"
   ]
  },
  {
   "cell_type": "code",
   "execution_count": 21,
   "id": "922b5001",
   "metadata": {},
   "outputs": [
    {
     "data": {
      "text/plain": [
       "3.0"
      ]
     },
     "execution_count": 21,
     "metadata": {},
     "output_type": "execute_result"
    }
   ],
   "source": [
    "df['Area'].median()"
   ]
  },
  {
   "cell_type": "code",
   "execution_count": 22,
   "id": "e213d95b",
   "metadata": {},
   "outputs": [],
   "source": [
    "df['Area'].fillna(df['Area'].median(), inplace=True)"
   ]
  },
  {
   "cell_type": "code",
   "execution_count": 23,
   "id": "85edf68f",
   "metadata": {},
   "outputs": [],
   "source": [
    "df['Children'].fillna(0, inplace=True)"
   ]
  },
  {
   "cell_type": "code",
   "execution_count": 24,
   "id": "e48c0043",
   "metadata": {},
   "outputs": [],
   "source": [
    "df['Motor'].fillna(0, inplace=True)\n",
    "df['Health'].fillna(0, inplace=True)\n",
    "df['Life'].fillna(0, inplace=True)\n",
    "df['Work'].fillna(0, inplace=True)"
   ]
  },
  {
   "cell_type": "code",
   "execution_count": 25,
   "id": "3ced9a62",
   "metadata": {
    "scrolled": false
   },
   "outputs": [
    {
     "data": {
      "text/plain": [
       "First_Policy    0\n",
       "BirthYear       0\n",
       "Education       0\n",
       "Salary          0\n",
       "Area            0\n",
       "Children        0\n",
       "CMV             0\n",
       "Claims          0\n",
       "Motor           0\n",
       "Household       0\n",
       "Health          0\n",
       "Life            0\n",
       "Work            0\n",
       "dtype: int64"
      ]
     },
     "execution_count": 25,
     "metadata": {},
     "output_type": "execute_result"
    }
   ],
   "source": [
    "df.isnull().sum()"
   ]
  },
  {
   "cell_type": "code",
   "execution_count": 26,
   "id": "44136916",
   "metadata": {},
   "outputs": [],
   "source": [
    "df['First_Policy'] = df['First_Policy'].astype(int)\n",
    "df['BirthYear'] = df['BirthYear'].astype(int)\n",
    "df['Area'] = df['Area'].astype(int)\n",
    "df['Children'] = df['Children'].astype(int)"
   ]
  },
  {
   "cell_type": "markdown",
   "id": "66ee478c",
   "metadata": {},
   "source": [
    "## Notes:"
   ]
  },
  {
   "cell_type": "markdown",
   "id": "9ccaf8a8",
   "metadata": {},
   "source": [
    "## Handling Outliers"
   ]
  },
  {
   "cell_type": "code",
   "execution_count": 27,
   "id": "41ee6982",
   "metadata": {},
   "outputs": [],
   "source": [
    "#Define metric and non-metric features. Why?\n",
    "non_metric_features = [\"Education\", \"Area\", \"Children\"]\n",
    "metric_features = df.columns.drop(non_metric_features).to_list()"
   ]
  },
  {
   "cell_type": "code",
   "execution_count": 28,
   "id": "62417738",
   "metadata": {},
   "outputs": [],
   "source": [
    "# let's keep the central imputation\n",
    "df_copy = df.copy()"
   ]
  },
  {
   "cell_type": "code",
   "execution_count": 29,
   "id": "c6865364",
   "metadata": {},
   "outputs": [
    {
     "data": {
      "image/png": "[encoded data removed]",
      "text/plain": [
       "<Figure size 1440x792 with 3 Axes>"
      ]
     },
     "metadata": {},
     "output_type": "display_data"
    }
   ],
   "source": [
    "sns.set()\n",
    "\n",
    "# Prepare figure. Create individual axes where each box plot will be placed\n",
    "fig, axes = plt.subplots(2, ceil(len(non_metric_features) / 2), figsize=(20, 11))\n",
    "\n",
    "# Plot data\n",
    "# Iterate across axes objects and associate each box plot (hint: use the ax argument):\n",
    "for ax, feat in zip(axes.flatten(), non_metric_features): # Notice the zip() function and flatten() method\n",
    "    sns.countplot(x=df[feat], ax=ax, palette=sns.color_palette('viridis'), saturation=1)\n",
    "    \n",
    "fig.delaxes(axes[1,1])\n",
    "# Layout\n",
    "# Add a centered title to the figure:\n",
    "title = \"Non-Numeric Variables' Count Plots\"\n",
    "\n",
    "plt.suptitle(title)\n",
    "\n",
    "plt.show()"
   ]
  },
  {
   "cell_type": "code",
   "execution_count": 30,
   "id": "67dae5b0",
   "metadata": {
    "scrolled": false
   },
   "outputs": [
    {
     "data": {
      "image/png": "[encoded data removed]",
      "text/plain": [
       "<Figure size 1440x792 with 10 Axes>"
      ]
     },
     "metadata": {},
     "output_type": "display_data"
    }
   ],
   "source": [
    "sns.set()\n",
    "\n",
    "# Prepare figure. Create individual axes where each box plot will be placed\n",
    "fig, axes = plt.subplots(2, ceil(len(metric_features) / 2), figsize=(20, 11))\n",
    "\n",
    "# Plot data\n",
    "# Iterate across axes objects and associate each box plot (hint: use the ax argument):\n",
    "for ax, feat in zip(axes.flatten(), metric_features): # Notice the zip() function and flatten() method\n",
    "    sns.boxplot(x=df[feat], ax=ax)\n",
    "    \n",
    "# Layout\n",
    "# Add a centered title to the figure:\n",
    "title = \"Numeric Variables' Box Plots\"\n",
    "\n",
    "plt.suptitle(title)\n",
    "\n",
    "plt.show()"
   ]
  },
  {
   "cell_type": "code",
   "execution_count": 31,
   "id": "d580954a",
   "metadata": {},
   "outputs": [
    {
     "data": {
      "image/png": "[encoded data removed]",
      "text/plain": [
       "<Figure size 1440x792 with 10 Axes>"
      ]
     },
     "metadata": {},
     "output_type": "display_data"
    }
   ],
   "source": [
    "sns.set()\n",
    "\n",
    "# Prepare figure. Create individual axes where each box plot will be placed\n",
    "fig, axes = plt.subplots(2, ceil(len(metric_features) / 2), figsize=(20, 11))\n",
    "\n",
    "# Plot data\n",
    "# Iterate across axes objects and associate each box plot (hint: use the ax argument):\n",
    "for ax, feat in zip(axes.flatten(), metric_features): # Notice the zip() function and flatten() method\n",
    "    sns.distplot(x=df[feat], ax=ax, kde=False)\n",
    "    \n",
    "# Layout\n",
    "# Add a centered title to the figure:\n",
    "title = \"Numeric Variables' Dist Plots\"\n",
    "\n",
    "plt.suptitle(title)\n",
    "\n",
    "plt.show()"
   ]
  },
  {
   "cell_type": "markdown",
   "id": "08f865b3",
   "metadata": {},
   "source": [
    "### Manual method"
   ]
  },
  {
   "cell_type": "code",
   "execution_count": 32,
   "id": "61601bf7",
   "metadata": {},
   "outputs": [],
   "source": [
    "# This may vary from session to session, and is prone to varying interpretations.\n",
    "# A simple example is provided below:\n",
    "\n",
    "filters1 = (\n",
    "    (df['BirthYear'] > 1800)\n",
    "    &\n",
    "    (df['First_Policy'] < 20000)\n",
    "    &\n",
    "    (df['Salary'] <= 5000)\n",
    "    &\n",
    "    (df['CMV'] <= 1000) & (df['CMV'] > -1500)\n",
    "    &\n",
    "    (df['Claims'] <= 4)\n",
    "    &\n",
    "    (df['Motor'] <= 1500)\n",
    "    &\n",
    "    (df['Household'] <= 500)\n",
    "    &\n",
    "    (df['Health'] <= 400)\n",
    "    &\n",
    "    (df['Life'] <= 100)\n",
    "    &\n",
    "    (df['Work'] <= 100)\n",
    ")\n",
    "\n",
    "df_1 = df_copy[filters1]"
   ]
  },
  {
   "cell_type": "code",
   "execution_count": 33,
   "id": "19596ef6",
   "metadata": {},
   "outputs": [
    {
     "name": "stdout",
     "output_type": "stream",
     "text": [
      "Percentage of data kept after removing outliers: 0.777\n"
     ]
    }
   ],
   "source": [
    "print('Percentage of data kept after removing outliers:', np.round(df_1.shape[0] / df_copy.shape[0], 4))"
   ]
  },
  {
   "cell_type": "markdown",
   "id": "1f6386fe",
   "metadata": {},
   "source": [
    "### IQR method"
   ]
  },
  {
   "cell_type": "code",
   "execution_count": 34,
   "id": "6bb27380",
   "metadata": {
    "scrolled": true
   },
   "outputs": [
    {
     "name": "stdout",
     "output_type": "stream",
     "text": [
      " First_Policy , 1962.0, 2010.0\n",
      " BirthYear , 1908.0, 2028.0\n",
      " Salary , -662.25, 5659.75\n",
      " CMV , -623.2662500000001, 1013.6037500000001\n",
      " Claims , -0.495, 1.865\n",
      " Motor , -135.63, 733.41\n",
      " Household , -311.45000000000005, 650.95\n",
      " Health , -51.161250000000024, 381.02875000000006\n",
      " Life , -60.78999999999999, 127.69\n",
      " Work , -59.015, 125.025\n",
      "Percentage of data kept after removing outliers: 0.8555\n"
     ]
    }
   ],
   "source": [
    "q25 = df.quantile(.25)\n",
    "q75 = df.quantile(.75)\n",
    "iqr = (q75 - q25)\n",
    "\n",
    "upper_lim = q75 + 1.5 * iqr\n",
    "lower_lim = q25 - 1.5 * iqr\n",
    "\n",
    "filters2 = []\n",
    "for metric in metric_features:\n",
    "    llim = lower_lim[metric]\n",
    "    ulim = upper_lim[metric]\n",
    "    filters2.append(df_copy[metric].between(llim, ulim, inclusive='both'))\n",
    "    print(f\" {metric} , {llim}, {ulim}\")\n",
    "\n",
    "df_2 = df[np.all(filters2,0)]\n",
    "print('Percentage of data kept after removing outliers:', np.round(df_2.shape[0] / df.shape[0], 4))"
   ]
  },
  {
   "cell_type": "code",
   "execution_count": 35,
   "id": "aa86a276",
   "metadata": {},
   "outputs": [
    {
     "name": "stdout",
     "output_type": "stream",
     "text": [
      "Percentage of data kept after removing outliers: 0.8568\n"
     ]
    }
   ],
   "source": [
    "df_3 = df_copy[(filters1 | np.all(filters2,0))]\n",
    "print('Percentage of data kept after removing outliers:', np.round(df_3.shape[0] / df_copy.shape[0], 4))"
   ]
  },
  {
   "cell_type": "code",
   "execution_count": 36,
   "id": "f4ddde39",
   "metadata": {},
   "outputs": [],
   "source": [
    "#Applying it to the DataFrame\n",
    "df = df[(filters1 | np.all(filters2,0))]"
   ]
  },
  {
   "cell_type": "code",
   "execution_count": 37,
   "id": "b23f2430",
   "metadata": {},
   "outputs": [
    {
     "data": {
      "image/png": "[encoded data removed]",
      "text/plain": [
       "<Figure size 1440x792 with 3 Axes>"
      ]
     },
     "metadata": {},
     "output_type": "display_data"
    }
   ],
   "source": [
    "sns.set()\n",
    "\n",
    "# Prepare figure. Create individual axes where each box plot will be placed\n",
    "fig, axes = plt.subplots(2, ceil(len(non_metric_features) / 2), figsize=(20, 11))\n",
    "\n",
    "# Plot data\n",
    "# Iterate across axes objects and associate each box plot (hint: use the ax argument):\n",
    "for ax, feat in zip(axes.flatten(), non_metric_features): # Notice the zip() function and flatten() method\n",
    "    sns.countplot(x=df[feat], ax=ax, palette=sns.color_palette('viridis'), saturation=1)\n",
    "    \n",
    "fig.delaxes(axes[1,1])\n",
    "# Layout\n",
    "# Add a centered title to the figure:\n",
    "title = \"Non-Numeric Variables' Count Plots\"\n",
    "\n",
    "plt.suptitle(title)\n",
    "\n",
    "plt.show()"
   ]
  },
  {
   "cell_type": "code",
   "execution_count": 38,
   "id": "5520c756",
   "metadata": {
    "scrolled": false
   },
   "outputs": [
    {
     "data": {
      "image/png": "[encoded data removed]",
      "text/plain": [
       "<Figure size 1440x792 with 10 Axes>"
      ]
     },
     "metadata": {},
     "output_type": "display_data"
    }
   ],
   "source": [
    "sns.set()\n",
    "\n",
    "# Prepare figure. Create individual axes where each box plot will be placed\n",
    "fig, axes = plt.subplots(2, ceil(len(metric_features) / 2), figsize=(20, 11))\n",
    "\n",
    "# Plot data\n",
    "# Iterate across axes objects and associate each box plot (hint: use the ax argument):\n",
    "for ax, feat in zip(axes.flatten(), metric_features): # Notice the zip() function and flatten() method\n",
    "    sns.boxplot(x=df[feat], ax=ax)\n",
    "    \n",
    "# Layout\n",
    "# Add a centered title to the figure:\n",
    "title = \"Numeric Variables' Box Plots\"\n",
    "\n",
    "plt.suptitle(title)\n",
    "\n",
    "plt.show()"
   ]
  },
  {
   "cell_type": "code",
   "execution_count": 39,
   "id": "c2b6a0bd",
   "metadata": {},
   "outputs": [
    {
     "data": {
      "image/png": "[encoded data removed]",
      "text/plain": [
       "<Figure size 1440x792 with 10 Axes>"
      ]
     },
     "metadata": {},
     "output_type": "display_data"
    }
   ],
   "source": [
    "sns.set()\n",
    "\n",
    "# Prepare figure. Create individual axes where each box plot will be placed\n",
    "fig, axes = plt.subplots(2, ceil(len(metric_features) / 2), figsize=(20, 11))\n",
    "\n",
    "# Plot data\n",
    "# Iterate across axes objects and associate each box plot (hint: use the ax argument):\n",
    "for ax, feat in zip(axes.flatten(), metric_features): # Notice the zip() function and flatten() method\n",
    "    sns.distplot(x=df[feat], ax=ax, kde=False)\n",
    "    \n",
    "# Layout\n",
    "# Add a centered title to the figure:\n",
    "title = \"Numeric Variables' Dist Plots\"\n",
    "\n",
    "plt.suptitle(title)\n",
    "\n",
    "plt.show()"
   ]
  },
  {
   "cell_type": "markdown",
   "id": "da1668e4",
   "metadata": {},
   "source": [
    "## Data Preprocessing"
   ]
  },
  {
   "cell_type": "markdown",
   "id": "d77bfdfe",
   "metadata": {},
   "source": [
    "### List\n",
    "- Age X\n",
    "- Customer Years (Loyalty years) X\n",
    "- Total Premium X\n",
    "- Customer Annual Profit X\n",
    "- Income Group\n",
    "- Age Group\n",
    "- Salary Invested Total Premiums/(Salary x 14) x 100 X\n",
    "- Change Education"
   ]
  },
  {
   "cell_type": "markdown",
   "id": "f8698a9a",
   "metadata": {},
   "source": [
    "## Questions\n",
    "Minimum Age and Customer Years for insurance?\n",
    "<br>\n",
    "Group By age?\n",
    "<br>\n",
    "Should we remove negative values from premiums?\n",
    "<br>\n",
    "Customer Monetary Value (CMV) can be negative?"
   ]
  },
  {
   "cell_type": "code",
   "execution_count": 40,
   "id": "65148187",
   "metadata": {},
   "outputs": [],
   "source": [
    "#Age of Customer\n",
    "df['Age'] = 2016 - df['BirthYear']"
   ]
  },
  {
   "cell_type": "code",
   "execution_count": 41,
   "id": "100c3635",
   "metadata": {},
   "outputs": [],
   "source": [
    "#Number of Years of Loyalty\n",
    "df['Customer_Years'] = 2016 - df['First_Policy']"
   ]
  },
  {
   "cell_type": "code",
   "execution_count": 42,
   "id": "a43bd387",
   "metadata": {},
   "outputs": [],
   "source": [
    "#Removing negative values because customers no longer possess that kind of premium\n",
    "df['Work'][df['Work']<=0] = 0\n",
    "df['Life'][df['Life']<=0] = 0\n",
    "df['Health'][df['Health']<=0] = 0\n",
    "df['Motor'][df['Motor'] <= 0] = 0"
   ]
  },
  {
   "cell_type": "code",
   "execution_count": 43,
   "id": "b31b4d6d",
   "metadata": {},
   "outputs": [],
   "source": [
    "#Summing All premiums\n",
    "df['Total_Premium'] = df['Work'] + df['Life'] + df['Health'] + df['Motor']"
   ]
  },
  {
   "cell_type": "code",
   "execution_count": 44,
   "id": "9ccba8a3",
   "metadata": {},
   "outputs": [],
   "source": [
    "#Annually Rate of Salary Invested in Premiums\n",
    "df['Salary_Rate'] = (df['Total_Premium'] / (df['Salary'] * 14)) * 100"
   ]
  },
  {
   "cell_type": "code",
   "execution_count": 45,
   "id": "b178dddf",
   "metadata": {},
   "outputs": [],
   "source": [
    "#Customer Annual Profit - what profitability is generated from each individual customer on average\n",
    "#CMV if the cost you spend on acquiring and maintaining a customer is more than what you profit, \n",
    "#your Customer Lifetime Value will be negative\n",
    "df['CAP'] = df['CMV'] / df['Customer_Years']"
   ]
  },
  {
   "cell_type": "code",
   "execution_count": 46,
   "id": "ad6953c3",
   "metadata": {},
   "outputs": [],
   "source": [
    "def binary_education(x):\n",
    "    \"\"\"Function that receives values for Education and assigns their ranking(1,2,3,4)\"\"\"\n",
    "    if x == b'1 - Basic':\n",
    "        return 1\n",
    "    elif x == b'2 - High School':\n",
    "        return 2\n",
    "    elif x == b'3 - BSc/MSc':\n",
    "        return 3\n",
    "    elif x == b'4 - PhD':\n",
    "        return 4"
   ]
  },
  {
   "cell_type": "code",
   "execution_count": 47,
   "id": "147a93aa",
   "metadata": {},
   "outputs": [],
   "source": [
    "#Transformin Categorical Variable into Ordinal Variable (Ranking Education)\n",
    "df['Education'] = df['Education'].apply(lambda x : binary_education(x))"
   ]
  },
  {
   "cell_type": "code",
   "execution_count": 48,
   "id": "e516c4df",
   "metadata": {
    "scrolled": false
   },
   "outputs": [
    {
     "data": {
      "text/html": [
       "<div>\n",
       "<style scoped>\n",
       "    .dataframe tbody tr th:only-of-type {\n",
       "        vertical-align: middle;\n",
       "    }\n",
       "\n",
       "    .dataframe tbody tr th {\n",
       "        vertical-align: top;\n",
       "    }\n",
       "\n",
       "    .dataframe thead th {\n",
       "        text-align: right;\n",
       "    }\n",
       "</style>\n",
       "<table border=\"1\" class=\"dataframe\">\n",
       "  <thead>\n",
       "    <tr style=\"text-align: right;\">\n",
       "      <th></th>\n",
       "      <th>First_Policy</th>\n",
       "      <th>BirthYear</th>\n",
       "      <th>Education</th>\n",
       "      <th>Salary</th>\n",
       "      <th>Area</th>\n",
       "      <th>Children</th>\n",
       "      <th>CMV</th>\n",
       "      <th>Claims</th>\n",
       "      <th>Motor</th>\n",
       "      <th>Household</th>\n",
       "      <th>Health</th>\n",
       "      <th>Life</th>\n",
       "      <th>Work</th>\n",
       "      <th>Age</th>\n",
       "      <th>Customer_Years</th>\n",
       "      <th>Total_Premium</th>\n",
       "      <th>Salary_Rate</th>\n",
       "      <th>CAP</th>\n",
       "    </tr>\n",
       "    <tr>\n",
       "      <th>CustID</th>\n",
       "      <th></th>\n",
       "      <th></th>\n",
       "      <th></th>\n",
       "      <th></th>\n",
       "      <th></th>\n",
       "      <th></th>\n",
       "      <th></th>\n",
       "      <th></th>\n",
       "      <th></th>\n",
       "      <th></th>\n",
       "      <th></th>\n",
       "      <th></th>\n",
       "      <th></th>\n",
       "      <th></th>\n",
       "      <th></th>\n",
       "      <th></th>\n",
       "      <th></th>\n",
       "      <th></th>\n",
       "    </tr>\n",
       "  </thead>\n",
       "  <tbody>\n",
       "    <tr>\n",
       "      <th>1</th>\n",
       "      <td>1985</td>\n",
       "      <td>1982</td>\n",
       "      <td>2</td>\n",
       "      <td>2177.0</td>\n",
       "      <td>1</td>\n",
       "      <td>1</td>\n",
       "      <td>380.97</td>\n",
       "      <td>0.39</td>\n",
       "      <td>375.85</td>\n",
       "      <td>79.45</td>\n",
       "      <td>146.36</td>\n",
       "      <td>47.01</td>\n",
       "      <td>16.89</td>\n",
       "      <td>34</td>\n",
       "      <td>31</td>\n",
       "      <td>586.11</td>\n",
       "      <td>1.923059</td>\n",
       "      <td>12.289355</td>\n",
       "    </tr>\n",
       "    <tr>\n",
       "      <th>3</th>\n",
       "      <td>1991</td>\n",
       "      <td>1970</td>\n",
       "      <td>1</td>\n",
       "      <td>2277.0</td>\n",
       "      <td>3</td>\n",
       "      <td>0</td>\n",
       "      <td>504.67</td>\n",
       "      <td>0.28</td>\n",
       "      <td>206.15</td>\n",
       "      <td>224.50</td>\n",
       "      <td>124.58</td>\n",
       "      <td>86.35</td>\n",
       "      <td>99.02</td>\n",
       "      <td>46</td>\n",
       "      <td>25</td>\n",
       "      <td>516.10</td>\n",
       "      <td>1.618985</td>\n",
       "      <td>20.186800</td>\n",
       "    </tr>\n",
       "    <tr>\n",
       "      <th>4</th>\n",
       "      <td>1990</td>\n",
       "      <td>1981</td>\n",
       "      <td>3</td>\n",
       "      <td>1099.0</td>\n",
       "      <td>4</td>\n",
       "      <td>1</td>\n",
       "      <td>-16.99</td>\n",
       "      <td>0.99</td>\n",
       "      <td>182.48</td>\n",
       "      <td>43.35</td>\n",
       "      <td>311.17</td>\n",
       "      <td>35.34</td>\n",
       "      <td>28.34</td>\n",
       "      <td>35</td>\n",
       "      <td>26</td>\n",
       "      <td>557.33</td>\n",
       "      <td>3.622319</td>\n",
       "      <td>-0.653462</td>\n",
       "    </tr>\n",
       "    <tr>\n",
       "      <th>5</th>\n",
       "      <td>1986</td>\n",
       "      <td>1973</td>\n",
       "      <td>3</td>\n",
       "      <td>1763.0</td>\n",
       "      <td>4</td>\n",
       "      <td>1</td>\n",
       "      <td>35.23</td>\n",
       "      <td>0.90</td>\n",
       "      <td>338.62</td>\n",
       "      <td>47.80</td>\n",
       "      <td>182.59</td>\n",
       "      <td>18.78</td>\n",
       "      <td>41.45</td>\n",
       "      <td>43</td>\n",
       "      <td>30</td>\n",
       "      <td>581.44</td>\n",
       "      <td>2.355725</td>\n",
       "      <td>1.174333</td>\n",
       "    </tr>\n",
       "    <tr>\n",
       "      <th>6</th>\n",
       "      <td>1986</td>\n",
       "      <td>1956</td>\n",
       "      <td>2</td>\n",
       "      <td>2566.0</td>\n",
       "      <td>4</td>\n",
       "      <td>1</td>\n",
       "      <td>-24.33</td>\n",
       "      <td>1.00</td>\n",
       "      <td>440.75</td>\n",
       "      <td>18.90</td>\n",
       "      <td>114.80</td>\n",
       "      <td>7.00</td>\n",
       "      <td>7.67</td>\n",
       "      <td>60</td>\n",
       "      <td>30</td>\n",
       "      <td>570.22</td>\n",
       "      <td>1.587295</td>\n",
       "      <td>-0.811000</td>\n",
       "    </tr>\n",
       "  </tbody>\n",
       "</table>\n",
       "</div>"
      ],
      "text/plain": [
       "        First_Policy  BirthYear  Education  Salary  Area  Children     CMV  \\\n",
       "CustID                                                                       \n",
       "1               1985       1982          2  2177.0     1         1  380.97   \n",
       "3               1991       1970          1  2277.0     3         0  504.67   \n",
       "4               1990       1981          3  1099.0     4         1  -16.99   \n",
       "5               1986       1973          3  1763.0     4         1   35.23   \n",
       "6               1986       1956          2  2566.0     4         1  -24.33   \n",
       "\n",
       "        Claims   Motor  Household  Health   Life   Work  Age  Customer_Years  \\\n",
       "CustID                                                                         \n",
       "1         0.39  375.85      79.45  146.36  47.01  16.89   34              31   \n",
       "3         0.28  206.15     224.50  124.58  86.35  99.02   46              25   \n",
       "4         0.99  182.48      43.35  311.17  35.34  28.34   35              26   \n",
       "5         0.90  338.62      47.80  182.59  18.78  41.45   43              30   \n",
       "6         1.00  440.75      18.90  114.80   7.00   7.67   60              30   \n",
       "\n",
       "        Total_Premium  Salary_Rate        CAP  \n",
       "CustID                                         \n",
       "1              586.11     1.923059  12.289355  \n",
       "3              516.10     1.618985  20.186800  \n",
       "4              557.33     3.622319  -0.653462  \n",
       "5              581.44     2.355725   1.174333  \n",
       "6              570.22     1.587295  -0.811000  "
      ]
     },
     "execution_count": 48,
     "metadata": {},
     "output_type": "execute_result"
    }
   ],
   "source": [
    "df.head()"
   ]
  },
  {
   "cell_type": "markdown",
   "id": "42050f80",
   "metadata": {},
   "source": [
    "## Coherence Checking"
   ]
  },
  {
   "cell_type": "code",
   "execution_count": 49,
   "id": "26ee7e66",
   "metadata": {},
   "outputs": [],
   "source": [
    "#Generally speaking, the minimum age of entry for life insurance plans like term plans and whole life plans is 18 years.\n",
    "#The maximum age of entry ranges from 65 to 69 years, depending on the type of plan and insurer."
   ]
  },
  {
   "cell_type": "code",
   "execution_count": 50,
   "id": "cb53ad2a",
   "metadata": {
    "scrolled": true
   },
   "outputs": [
    {
     "ename": "NameError",
     "evalue": "name 'age' is not defined",
     "output_type": "error",
     "traceback": [
      "\u001b[1;31m---------------------------------------------------------------------------\u001b[0m",
      "\u001b[1;31mNameError\u001b[0m                                 Traceback (most recent call last)",
      "Input \u001b[1;32mIn [50]\u001b[0m, in \u001b[0;36m<cell line: 1>\u001b[1;34m()\u001b[0m\n\u001b[1;32m----> 1\u001b[0m \u001b[43mage\u001b[49m \u001b[38;5;241m-\u001b[39m customer_years \u001b[38;5;241m>\u001b[39m \u001b[38;5;241m18\u001b[39m\n",
      "\u001b[1;31mNameError\u001b[0m: name 'age' is not defined"
     ]
    }
   ],
   "source": [
    "age - customer_years > 18"
   ]
  }
 ],
 "metadata": {
  "kernelspec": {
   "display_name": "Python 3 (ipykernel)",
   "language": "python",
   "name": "python3"
  },
  "language_info": {
   "codemirror_mode": {
    "name": "ipython",
    "version": 3
   },
   "file_extension": ".py",
   "mimetype": "text/x-python",
   "name": "python",
   "nbconvert_exporter": "python",
   "pygments_lexer": "ipython3",
   "version": "3.9.12"
  }
 },
 "nbformat": 4,
 "nbformat_minor": 5
}
