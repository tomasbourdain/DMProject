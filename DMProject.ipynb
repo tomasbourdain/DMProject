{
 "cells": [
  {
   "cell_type": "markdown",
   "id": "6fdc0652",
   "metadata": {},
   "source": [
    "# Data Mining Project"
   ]
  },
  {
   "cell_type": "markdown",
   "id": "e52b03f1",
   "metadata": {},
   "source": [
    "## Context\n",
    "\n",
    "Market segmentation, the process of identifying customers’ groups, makes use of geographic, demographic, psychographic, and behavioral characteristics of customers. By understanding the differences between the different segments, organizations can make better strategic choices about opportunities, product definition, positioning, promotions, pricing, and target marketing.\n",
    "\n",
    "A2Z Insurance (A2Z) is a portuguese long standing insurance company that serves a wide array of insurance services: Motor, Household, Health, Life and Work Compensation. Although A2Z primarily serves portuguese customers, a significant portion of their customer acquisition comes from their web site.\n",
    "\n",
    "In 2016, A2Z became one of the largest insurers in Portugal.and they provided you an ABT (Analytic Based Table) with data regarding a sample of 10.290 Customers from its active database. These are customers that had at least one insurance service with the company at the time the dataset was extracted. "
   ]
  },
  {
   "cell_type": "markdown",
   "id": "342973e9",
   "metadata": {},
   "source": [
    "## Goals\n",
    "1. Explore the data and identify the variables that should be used to segment customers.\n",
    "2. Identify customer segments\n",
    "3. Justify the number of clusters you chose (taking in consideration the business use as well).\n",
    "4. Explain the clusters found.\n",
    "5. Suggest business applications for the findings and define general marketing approaches for each cluster."
   ]
  },
  {
   "cell_type": "markdown",
   "id": "990911c8",
   "metadata": {},
   "source": [
    "## Notes\n",
    "\n",
    "- 2016 is the current year\n",
    "- Change Name of Columns\n",
    "- Fill with 0 the Insurance Premiums\n",
    "- Fill with mode Children\n",
    "- Fill with median Salary, etc.\n",
    "- Deal with Negative Values\n",
    "- Remove Outliers (IQR Method and Manual)\n",
    "- Perform Standardization (MinMaxScaler,Standard Scaler)\n",
    "- Feature Selection(Check Correlation)\n",
    "- Create New Variables (Age Group, Income Group, Has Children (Yes/No, Total_Premiums)\n",
    "- Taking into account that the current year of the database is 2016, we calculated the customer Age , which is 2016 minus birthday year and the Customer_Years is 2016 minus first policy year. Also, i f we divide Customer Monetary Value ( CMV ) by Customer_Years , we obt ain an estimation of the customer Annual_Profit .\n",
    "- Coherence Checking (Age < 18, Age < Years of Education+4?, Birthday > First_Policy, Negative Salary, Children outside the Ranges, Area different from the range interval\n",
    "- Clustering by Demographic and Value and Behavior (Data Partition)\n",
    "- Create new variable Salary Invested Total Premiums/(Salary x 14) x 100"
   ]
  },
  {
   "cell_type": "markdown",
   "id": "0b86b0d8",
   "metadata": {},
   "source": [
    "## Importing Libraries"
   ]
  },
  {
   "cell_type": "code",
   "execution_count": null,
   "id": "5f132e46",
   "metadata": {},
   "outputs": [],
   "source": [
    "import numpy as np\n",
    "import pandas as pd\n",
    "import matplotlib.pyplot as plt\n",
    "import seaborn as sns\n",
    "import warnings\n",
    "warnings.filterwarnings(\"ignore\")\n",
    "\n",
    "%matplotlib inline"
   ]
  },
  {
   "cell_type": "markdown",
   "id": "9c99c43e",
   "metadata": {},
   "source": [
    "## Loading Data"
   ]
  },
  {
   "cell_type": "code",
   "execution_count": null,
   "id": "e9077d05",
   "metadata": {},
   "outputs": [],
   "source": [
    "df = pd.read_sas('a2z_insurance.sas7bdat')"
   ]
  },
  {
   "cell_type": "code",
   "execution_count": null,
   "id": "62299b30",
   "metadata": {},
   "outputs": [],
   "source": [
    "df['CustID'] = df.CustID.astype(int)"
   ]
  },
  {
   "cell_type": "code",
   "execution_count": null,
   "id": "114fd6df",
   "metadata": {},
   "outputs": [],
   "source": [
    "df.set_index('CustID', inplace=True)"
   ]
  },
  {
   "cell_type": "markdown",
   "id": "8f38c8f2",
   "metadata": {},
   "source": [
    "## Data Exploration"
   ]
  },
  {
   "cell_type": "code",
   "execution_count": null,
   "id": "ff528f15",
   "metadata": {},
   "outputs": [],
   "source": [
    "#Renaming Columns\n",
    "df.rename(columns={'FirstPolYear':'First_Policy',\n",
    "                   'EducDeg': 'Education',\n",
    "                   'MonthSal': 'Salary',\n",
    "                  'GeoLivArea': 'Area',\n",
    "                  'CustMonVal': 'CMV',\n",
    "                   'ClaimsRate': 'Claims',\n",
    "                  'PremMotor':'Motor',\n",
    "                  'PremHousehold': 'Household',\n",
    "                  'PremHealth': 'Health',\n",
    "                  'PremLife': 'Life',\n",
    "                  'PremWork': 'Work'}, inplace=True)"
   ]
  },
  {
   "cell_type": "code",
   "execution_count": null,
   "id": "8c14962d",
   "metadata": {},
   "outputs": [],
   "source": [
    "df.head()"
   ]
  },
  {
   "cell_type": "code",
   "execution_count": null,
   "id": "b480d406",
   "metadata": {},
   "outputs": [],
   "source": [
    "#Checking Shape of the Dataset\n",
    "df.shape"
   ]
  },
  {
   "cell_type": "code",
   "execution_count": null,
   "id": "4da452df",
   "metadata": {},
   "outputs": [],
   "source": [
    "#Checking all the Columns in the Dataset\n",
    "df.columns"
   ]
  },
  {
   "cell_type": "code",
   "execution_count": null,
   "id": "f7f33b58",
   "metadata": {},
   "outputs": [],
   "source": [
    "df.describe().T"
   ]
  },
  {
   "cell_type": "code",
   "execution_count": null,
   "id": "4857efbd",
   "metadata": {},
   "outputs": [],
   "source": [
    "#Checking information for all columns\n",
    "df.info()"
   ]
  },
  {
   "cell_type": "code",
   "execution_count": null,
   "id": "9ffbc9e2",
   "metadata": {},
   "outputs": [],
   "source": [
    "#Checking if there is any Null value present in the Dataset?\n",
    "df.isnull().sum()"
   ]
  },
  {
   "cell_type": "code",
   "execution_count": null,
   "id": "30fe565a",
   "metadata": {},
   "outputs": [],
   "source": [
    "### Percentage of Missing Data\n",
    "percent_missing = df.isnull().sum() * 100 / len(df)\n",
    "missing_value_df = pd.DataFrame({'column_name': df.columns,\n",
    "                                 'percent_missing': percent_missing})\n",
    "missing_value_df"
   ]
  },
  {
   "cell_type": "markdown",
   "id": "ec1f5b34",
   "metadata": {},
   "source": [
    "## Data Preparation"
   ]
  },
  {
   "cell_type": "markdown",
   "id": "3c8119b7",
   "metadata": {},
   "source": [
    "### Handling Missing Values"
   ]
  },
  {
   "cell_type": "code",
   "execution_count": null,
   "id": "c23fb409",
   "metadata": {},
   "outputs": [],
   "source": []
  }
 ],
 "metadata": {
  "kernelspec": {
   "display_name": "Python 3 (ipykernel)",
   "language": "python",
   "name": "python3"
  },
  "language_info": {
   "codemirror_mode": {
    "name": "ipython",
    "version": 3
   },
   "file_extension": ".py",
   "mimetype": "text/x-python",
   "name": "python",
   "nbconvert_exporter": "python",
   "pygments_lexer": "ipython3",
   "version": "3.9.12"
  }
 },
 "nbformat": 4,
 "nbformat_minor": 5
}
